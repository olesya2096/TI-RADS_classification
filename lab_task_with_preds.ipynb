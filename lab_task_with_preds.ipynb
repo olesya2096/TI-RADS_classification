{
  "nbformat": 4,
  "nbformat_minor": 0,
  "metadata": {
    "colab": {
      "provenance": [],
      "gpuType": "T4"
    },
    "kernelspec": {
      "name": "python3",
      "display_name": "Python 3"
    },
    "language_info": {
      "name": "python"
    },
    "accelerator": "GPU",
    "widgets": {
      "application/vnd.jupyter.widget-state+json": {
        "1f0c93ff0fae411cb6c34b224032930c": {
          "model_module": "@jupyter-widgets/controls",
          "model_name": "HBoxModel",
          "model_module_version": "1.5.0",
          "state": {
            "_dom_classes": [],
            "_model_module": "@jupyter-widgets/controls",
            "_model_module_version": "1.5.0",
            "_model_name": "HBoxModel",
            "_view_count": null,
            "_view_module": "@jupyter-widgets/controls",
            "_view_module_version": "1.5.0",
            "_view_name": "HBoxView",
            "box_style": "",
            "children": [
              "IPY_MODEL_66b9e79798324334b0e35b0322a68adf",
              "IPY_MODEL_8bd2515983794333a1dd6dd6acd57f67",
              "IPY_MODEL_e43aae0f910f4587a3f2a6443b988937"
            ],
            "layout": "IPY_MODEL_de1928396bf64f4095aac51e631375d9"
          }
        },
        "66b9e79798324334b0e35b0322a68adf": {
          "model_module": "@jupyter-widgets/controls",
          "model_name": "HTMLModel",
          "model_module_version": "1.5.0",
          "state": {
            "_dom_classes": [],
            "_model_module": "@jupyter-widgets/controls",
            "_model_module_version": "1.5.0",
            "_model_name": "HTMLModel",
            "_view_count": null,
            "_view_module": "@jupyter-widgets/controls",
            "_view_module_version": "1.5.0",
            "_view_name": "HTMLView",
            "description": "",
            "description_tooltip": null,
            "layout": "IPY_MODEL_3a719948448e4a959dad53bf8fef7dd9",
            "placeholder": "​",
            "style": "IPY_MODEL_18f90093855f401f866a4afeeab9b333",
            "value": "100%"
          }
        },
        "8bd2515983794333a1dd6dd6acd57f67": {
          "model_module": "@jupyter-widgets/controls",
          "model_name": "FloatProgressModel",
          "model_module_version": "1.5.0",
          "state": {
            "_dom_classes": [],
            "_model_module": "@jupyter-widgets/controls",
            "_model_module_version": "1.5.0",
            "_model_name": "FloatProgressModel",
            "_view_count": null,
            "_view_module": "@jupyter-widgets/controls",
            "_view_module_version": "1.5.0",
            "_view_name": "ProgressView",
            "bar_style": "success",
            "description": "",
            "description_tooltip": null,
            "layout": "IPY_MODEL_22d304d680a0430a96010673c38cd26e",
            "max": 20,
            "min": 0,
            "orientation": "horizontal",
            "style": "IPY_MODEL_64b6c2fb803244f4bd453435457e64a0",
            "value": 20
          }
        },
        "e43aae0f910f4587a3f2a6443b988937": {
          "model_module": "@jupyter-widgets/controls",
          "model_name": "HTMLModel",
          "model_module_version": "1.5.0",
          "state": {
            "_dom_classes": [],
            "_model_module": "@jupyter-widgets/controls",
            "_model_module_version": "1.5.0",
            "_model_name": "HTMLModel",
            "_view_count": null,
            "_view_module": "@jupyter-widgets/controls",
            "_view_module_version": "1.5.0",
            "_view_name": "HTMLView",
            "description": "",
            "description_tooltip": null,
            "layout": "IPY_MODEL_40c8b9292ebb49c0a3b313e66b334897",
            "placeholder": "​",
            "style": "IPY_MODEL_b1635e26cd524ed7bed70ac0ea44fcfb",
            "value": " 20/20 [10:31&lt;00:00, 30.62s/it]"
          }
        },
        "de1928396bf64f4095aac51e631375d9": {
          "model_module": "@jupyter-widgets/base",
          "model_name": "LayoutModel",
          "model_module_version": "1.2.0",
          "state": {
            "_model_module": "@jupyter-widgets/base",
            "_model_module_version": "1.2.0",
            "_model_name": "LayoutModel",
            "_view_count": null,
            "_view_module": "@jupyter-widgets/base",
            "_view_module_version": "1.2.0",
            "_view_name": "LayoutView",
            "align_content": null,
            "align_items": null,
            "align_self": null,
            "border": null,
            "bottom": null,
            "display": null,
            "flex": null,
            "flex_flow": null,
            "grid_area": null,
            "grid_auto_columns": null,
            "grid_auto_flow": null,
            "grid_auto_rows": null,
            "grid_column": null,
            "grid_gap": null,
            "grid_row": null,
            "grid_template_areas": null,
            "grid_template_columns": null,
            "grid_template_rows": null,
            "height": null,
            "justify_content": null,
            "justify_items": null,
            "left": null,
            "margin": null,
            "max_height": null,
            "max_width": null,
            "min_height": null,
            "min_width": null,
            "object_fit": null,
            "object_position": null,
            "order": null,
            "overflow": null,
            "overflow_x": null,
            "overflow_y": null,
            "padding": null,
            "right": null,
            "top": null,
            "visibility": null,
            "width": null
          }
        },
        "3a719948448e4a959dad53bf8fef7dd9": {
          "model_module": "@jupyter-widgets/base",
          "model_name": "LayoutModel",
          "model_module_version": "1.2.0",
          "state": {
            "_model_module": "@jupyter-widgets/base",
            "_model_module_version": "1.2.0",
            "_model_name": "LayoutModel",
            "_view_count": null,
            "_view_module": "@jupyter-widgets/base",
            "_view_module_version": "1.2.0",
            "_view_name": "LayoutView",
            "align_content": null,
            "align_items": null,
            "align_self": null,
            "border": null,
            "bottom": null,
            "display": null,
            "flex": null,
            "flex_flow": null,
            "grid_area": null,
            "grid_auto_columns": null,
            "grid_auto_flow": null,
            "grid_auto_rows": null,
            "grid_column": null,
            "grid_gap": null,
            "grid_row": null,
            "grid_template_areas": null,
            "grid_template_columns": null,
            "grid_template_rows": null,
            "height": null,
            "justify_content": null,
            "justify_items": null,
            "left": null,
            "margin": null,
            "max_height": null,
            "max_width": null,
            "min_height": null,
            "min_width": null,
            "object_fit": null,
            "object_position": null,
            "order": null,
            "overflow": null,
            "overflow_x": null,
            "overflow_y": null,
            "padding": null,
            "right": null,
            "top": null,
            "visibility": null,
            "width": null
          }
        },
        "18f90093855f401f866a4afeeab9b333": {
          "model_module": "@jupyter-widgets/controls",
          "model_name": "DescriptionStyleModel",
          "model_module_version": "1.5.0",
          "state": {
            "_model_module": "@jupyter-widgets/controls",
            "_model_module_version": "1.5.0",
            "_model_name": "DescriptionStyleModel",
            "_view_count": null,
            "_view_module": "@jupyter-widgets/base",
            "_view_module_version": "1.2.0",
            "_view_name": "StyleView",
            "description_width": ""
          }
        },
        "22d304d680a0430a96010673c38cd26e": {
          "model_module": "@jupyter-widgets/base",
          "model_name": "LayoutModel",
          "model_module_version": "1.2.0",
          "state": {
            "_model_module": "@jupyter-widgets/base",
            "_model_module_version": "1.2.0",
            "_model_name": "LayoutModel",
            "_view_count": null,
            "_view_module": "@jupyter-widgets/base",
            "_view_module_version": "1.2.0",
            "_view_name": "LayoutView",
            "align_content": null,
            "align_items": null,
            "align_self": null,
            "border": null,
            "bottom": null,
            "display": null,
            "flex": null,
            "flex_flow": null,
            "grid_area": null,
            "grid_auto_columns": null,
            "grid_auto_flow": null,
            "grid_auto_rows": null,
            "grid_column": null,
            "grid_gap": null,
            "grid_row": null,
            "grid_template_areas": null,
            "grid_template_columns": null,
            "grid_template_rows": null,
            "height": null,
            "justify_content": null,
            "justify_items": null,
            "left": null,
            "margin": null,
            "max_height": null,
            "max_width": null,
            "min_height": null,
            "min_width": null,
            "object_fit": null,
            "object_position": null,
            "order": null,
            "overflow": null,
            "overflow_x": null,
            "overflow_y": null,
            "padding": null,
            "right": null,
            "top": null,
            "visibility": null,
            "width": null
          }
        },
        "64b6c2fb803244f4bd453435457e64a0": {
          "model_module": "@jupyter-widgets/controls",
          "model_name": "ProgressStyleModel",
          "model_module_version": "1.5.0",
          "state": {
            "_model_module": "@jupyter-widgets/controls",
            "_model_module_version": "1.5.0",
            "_model_name": "ProgressStyleModel",
            "_view_count": null,
            "_view_module": "@jupyter-widgets/base",
            "_view_module_version": "1.2.0",
            "_view_name": "StyleView",
            "bar_color": null,
            "description_width": ""
          }
        },
        "40c8b9292ebb49c0a3b313e66b334897": {
          "model_module": "@jupyter-widgets/base",
          "model_name": "LayoutModel",
          "model_module_version": "1.2.0",
          "state": {
            "_model_module": "@jupyter-widgets/base",
            "_model_module_version": "1.2.0",
            "_model_name": "LayoutModel",
            "_view_count": null,
            "_view_module": "@jupyter-widgets/base",
            "_view_module_version": "1.2.0",
            "_view_name": "LayoutView",
            "align_content": null,
            "align_items": null,
            "align_self": null,
            "border": null,
            "bottom": null,
            "display": null,
            "flex": null,
            "flex_flow": null,
            "grid_area": null,
            "grid_auto_columns": null,
            "grid_auto_flow": null,
            "grid_auto_rows": null,
            "grid_column": null,
            "grid_gap": null,
            "grid_row": null,
            "grid_template_areas": null,
            "grid_template_columns": null,
            "grid_template_rows": null,
            "height": null,
            "justify_content": null,
            "justify_items": null,
            "left": null,
            "margin": null,
            "max_height": null,
            "max_width": null,
            "min_height": null,
            "min_width": null,
            "object_fit": null,
            "object_position": null,
            "order": null,
            "overflow": null,
            "overflow_x": null,
            "overflow_y": null,
            "padding": null,
            "right": null,
            "top": null,
            "visibility": null,
            "width": null
          }
        },
        "b1635e26cd524ed7bed70ac0ea44fcfb": {
          "model_module": "@jupyter-widgets/controls",
          "model_name": "DescriptionStyleModel",
          "model_module_version": "1.5.0",
          "state": {
            "_model_module": "@jupyter-widgets/controls",
            "_model_module_version": "1.5.0",
            "_model_name": "DescriptionStyleModel",
            "_view_count": null,
            "_view_module": "@jupyter-widgets/base",
            "_view_module_version": "1.2.0",
            "_view_name": "StyleView",
            "description_width": ""
          }
        }
      }
    }
  },
  "cells": [
    {
      "cell_type": "code",
      "source": [
        "import pickle\n",
        "import pandas as pd\n",
        "import numpy as np\n",
        "from skimage import io\n",
        "\n",
        "from tqdm import tqdm, tqdm_notebook\n",
        "from PIL import Image, ImageSequence\n",
        "from pathlib import Path\n",
        "import os\n",
        "\n",
        "import torch\n",
        "from torchvision import transforms, models, datasets\n",
        "from torchvision.transforms import ToTensor\n",
        "from multiprocessing.pool import ThreadPool\n",
        "from sklearn.preprocessing import OneHotEncoder\n",
        "from torch.utils.data import Dataset, DataLoader\n",
        "import torch.nn as nn\n",
        "from torch.optim import lr_scheduler\n",
        "\n",
        "from matplotlib import colors, pyplot as plt\n",
        "%matplotlib inline"
      ],
      "metadata": {
        "id": "vfG2BJTYZWbd"
      },
      "execution_count": null,
      "outputs": []
    },
    {
      "cell_type": "code",
      "source": [
        "from google.colab import drive\n",
        "drive.mount('/content/gdrive/')"
      ],
      "metadata": {
        "colab": {
          "base_uri": "https://localhost:8080/"
        },
        "id": "B7gPdyf3Yfpf",
        "outputId": "9154d063-9aa0-4253-8b1f-f5bd59cd9920"
      },
      "execution_count": null,
      "outputs": [
        {
          "output_type": "stream",
          "name": "stdout",
          "text": [
            "Mounted at /content/gdrive/\n"
          ]
        }
      ]
    },
    {
      "cell_type": "code",
      "source": [
        "!unzip -q /content/gdrive/MyDrive/data.zip -d my_data"
      ],
      "metadata": {
        "id": "a31gCqpJZK1X"
      },
      "execution_count": null,
      "outputs": []
    },
    {
      "cell_type": "code",
      "source": [
        "!ls my_data/data"
      ],
      "metadata": {
        "colab": {
          "base_uri": "https://localhost:8080/"
        },
        "id": "li-heBCNZRqJ",
        "outputId": "bdcf18f5-939b-44b4-a54e-8ca3c1c72e0d"
      },
      "execution_count": null,
      "outputs": [
        {
          "output_type": "stream",
          "name": "stdout",
          "text": [
            "178  182  186  190  194  198  203  348\t353  357  362\n",
            "179  183  187  191  195  199  204  349\t354  358  364\n",
            "180  184  188  192  196  200  345  350\t355  360  367\n",
            "181  185  189  193  197  201  347  351\t356  361  classes.xlsx\n"
          ]
        }
      ]
    },
    {
      "cell_type": "code",
      "source": [
        "my_labels = pd.read_excel('my_data/data/classes.xlsx')"
      ],
      "metadata": {
        "id": "Z8Z-ImLTYThD"
      },
      "execution_count": null,
      "outputs": []
    },
    {
      "cell_type": "code",
      "source": [
        "my_labels"
      ],
      "metadata": {
        "colab": {
          "base_uri": "https://localhost:8080/",
          "height": 1000
        },
        "id": "PYOqOi2_bi0e",
        "outputId": "85b2af97-776f-4576-8050-f08215f1b7f9"
      },
      "execution_count": null,
      "outputs": [
        {
          "output_type": "execute_result",
          "data": {
            "text/plain": [
              "      №  Узел ЩЖ, TIRADS\n",
              "0   178                4\n",
              "1   179                5\n",
              "2   180                3\n",
              "3   181                5\n",
              "4   182                3\n",
              "5   183                5\n",
              "6   184                5\n",
              "7   185                5\n",
              "8   186                5\n",
              "9   187                5\n",
              "10  188                3\n",
              "11  189                4\n",
              "12  190                4\n",
              "13  191                5\n",
              "14  192                3\n",
              "15  193                2\n",
              "16  194                5\n",
              "17  195                5\n",
              "18  196                4\n",
              "19  197                5\n",
              "20  198                4\n",
              "21  199                3\n",
              "22  200                3\n",
              "23  201                3\n",
              "24  202                5\n",
              "25  203                5\n",
              "26  204                5\n",
              "27  345                5\n",
              "28  346                5\n",
              "29  347                4\n",
              "30  348                4\n",
              "31  349                4\n",
              "32  350                4\n",
              "33  351                2\n",
              "34  353                4\n",
              "35  354                3\n",
              "36  355                5\n",
              "37  356                5\n",
              "38  357                4\n",
              "39  358                5\n",
              "40  360                3\n",
              "41  361                5\n",
              "42  362                4\n",
              "43  363                4\n",
              "44  364                5\n",
              "45  365                2\n",
              "46  366                3\n",
              "47  367                5"
            ],
            "text/html": [
              "\n",
              "  <div id=\"df-6740f16a-1465-4821-98f8-2327c0bf0a3c\" class=\"colab-df-container\">\n",
              "    <div>\n",
              "<style scoped>\n",
              "    .dataframe tbody tr th:only-of-type {\n",
              "        vertical-align: middle;\n",
              "    }\n",
              "\n",
              "    .dataframe tbody tr th {\n",
              "        vertical-align: top;\n",
              "    }\n",
              "\n",
              "    .dataframe thead th {\n",
              "        text-align: right;\n",
              "    }\n",
              "</style>\n",
              "<table border=\"1\" class=\"dataframe\">\n",
              "  <thead>\n",
              "    <tr style=\"text-align: right;\">\n",
              "      <th></th>\n",
              "      <th>№</th>\n",
              "      <th>Узел ЩЖ, TIRADS</th>\n",
              "    </tr>\n",
              "  </thead>\n",
              "  <tbody>\n",
              "    <tr>\n",
              "      <th>0</th>\n",
              "      <td>178</td>\n",
              "      <td>4</td>\n",
              "    </tr>\n",
              "    <tr>\n",
              "      <th>1</th>\n",
              "      <td>179</td>\n",
              "      <td>5</td>\n",
              "    </tr>\n",
              "    <tr>\n",
              "      <th>2</th>\n",
              "      <td>180</td>\n",
              "      <td>3</td>\n",
              "    </tr>\n",
              "    <tr>\n",
              "      <th>3</th>\n",
              "      <td>181</td>\n",
              "      <td>5</td>\n",
              "    </tr>\n",
              "    <tr>\n",
              "      <th>4</th>\n",
              "      <td>182</td>\n",
              "      <td>3</td>\n",
              "    </tr>\n",
              "    <tr>\n",
              "      <th>5</th>\n",
              "      <td>183</td>\n",
              "      <td>5</td>\n",
              "    </tr>\n",
              "    <tr>\n",
              "      <th>6</th>\n",
              "      <td>184</td>\n",
              "      <td>5</td>\n",
              "    </tr>\n",
              "    <tr>\n",
              "      <th>7</th>\n",
              "      <td>185</td>\n",
              "      <td>5</td>\n",
              "    </tr>\n",
              "    <tr>\n",
              "      <th>8</th>\n",
              "      <td>186</td>\n",
              "      <td>5</td>\n",
              "    </tr>\n",
              "    <tr>\n",
              "      <th>9</th>\n",
              "      <td>187</td>\n",
              "      <td>5</td>\n",
              "    </tr>\n",
              "    <tr>\n",
              "      <th>10</th>\n",
              "      <td>188</td>\n",
              "      <td>3</td>\n",
              "    </tr>\n",
              "    <tr>\n",
              "      <th>11</th>\n",
              "      <td>189</td>\n",
              "      <td>4</td>\n",
              "    </tr>\n",
              "    <tr>\n",
              "      <th>12</th>\n",
              "      <td>190</td>\n",
              "      <td>4</td>\n",
              "    </tr>\n",
              "    <tr>\n",
              "      <th>13</th>\n",
              "      <td>191</td>\n",
              "      <td>5</td>\n",
              "    </tr>\n",
              "    <tr>\n",
              "      <th>14</th>\n",
              "      <td>192</td>\n",
              "      <td>3</td>\n",
              "    </tr>\n",
              "    <tr>\n",
              "      <th>15</th>\n",
              "      <td>193</td>\n",
              "      <td>2</td>\n",
              "    </tr>\n",
              "    <tr>\n",
              "      <th>16</th>\n",
              "      <td>194</td>\n",
              "      <td>5</td>\n",
              "    </tr>\n",
              "    <tr>\n",
              "      <th>17</th>\n",
              "      <td>195</td>\n",
              "      <td>5</td>\n",
              "    </tr>\n",
              "    <tr>\n",
              "      <th>18</th>\n",
              "      <td>196</td>\n",
              "      <td>4</td>\n",
              "    </tr>\n",
              "    <tr>\n",
              "      <th>19</th>\n",
              "      <td>197</td>\n",
              "      <td>5</td>\n",
              "    </tr>\n",
              "    <tr>\n",
              "      <th>20</th>\n",
              "      <td>198</td>\n",
              "      <td>4</td>\n",
              "    </tr>\n",
              "    <tr>\n",
              "      <th>21</th>\n",
              "      <td>199</td>\n",
              "      <td>3</td>\n",
              "    </tr>\n",
              "    <tr>\n",
              "      <th>22</th>\n",
              "      <td>200</td>\n",
              "      <td>3</td>\n",
              "    </tr>\n",
              "    <tr>\n",
              "      <th>23</th>\n",
              "      <td>201</td>\n",
              "      <td>3</td>\n",
              "    </tr>\n",
              "    <tr>\n",
              "      <th>24</th>\n",
              "      <td>202</td>\n",
              "      <td>5</td>\n",
              "    </tr>\n",
              "    <tr>\n",
              "      <th>25</th>\n",
              "      <td>203</td>\n",
              "      <td>5</td>\n",
              "    </tr>\n",
              "    <tr>\n",
              "      <th>26</th>\n",
              "      <td>204</td>\n",
              "      <td>5</td>\n",
              "    </tr>\n",
              "    <tr>\n",
              "      <th>27</th>\n",
              "      <td>345</td>\n",
              "      <td>5</td>\n",
              "    </tr>\n",
              "    <tr>\n",
              "      <th>28</th>\n",
              "      <td>346</td>\n",
              "      <td>5</td>\n",
              "    </tr>\n",
              "    <tr>\n",
              "      <th>29</th>\n",
              "      <td>347</td>\n",
              "      <td>4</td>\n",
              "    </tr>\n",
              "    <tr>\n",
              "      <th>30</th>\n",
              "      <td>348</td>\n",
              "      <td>4</td>\n",
              "    </tr>\n",
              "    <tr>\n",
              "      <th>31</th>\n",
              "      <td>349</td>\n",
              "      <td>4</td>\n",
              "    </tr>\n",
              "    <tr>\n",
              "      <th>32</th>\n",
              "      <td>350</td>\n",
              "      <td>4</td>\n",
              "    </tr>\n",
              "    <tr>\n",
              "      <th>33</th>\n",
              "      <td>351</td>\n",
              "      <td>2</td>\n",
              "    </tr>\n",
              "    <tr>\n",
              "      <th>34</th>\n",
              "      <td>353</td>\n",
              "      <td>4</td>\n",
              "    </tr>\n",
              "    <tr>\n",
              "      <th>35</th>\n",
              "      <td>354</td>\n",
              "      <td>3</td>\n",
              "    </tr>\n",
              "    <tr>\n",
              "      <th>36</th>\n",
              "      <td>355</td>\n",
              "      <td>5</td>\n",
              "    </tr>\n",
              "    <tr>\n",
              "      <th>37</th>\n",
              "      <td>356</td>\n",
              "      <td>5</td>\n",
              "    </tr>\n",
              "    <tr>\n",
              "      <th>38</th>\n",
              "      <td>357</td>\n",
              "      <td>4</td>\n",
              "    </tr>\n",
              "    <tr>\n",
              "      <th>39</th>\n",
              "      <td>358</td>\n",
              "      <td>5</td>\n",
              "    </tr>\n",
              "    <tr>\n",
              "      <th>40</th>\n",
              "      <td>360</td>\n",
              "      <td>3</td>\n",
              "    </tr>\n",
              "    <tr>\n",
              "      <th>41</th>\n",
              "      <td>361</td>\n",
              "      <td>5</td>\n",
              "    </tr>\n",
              "    <tr>\n",
              "      <th>42</th>\n",
              "      <td>362</td>\n",
              "      <td>4</td>\n",
              "    </tr>\n",
              "    <tr>\n",
              "      <th>43</th>\n",
              "      <td>363</td>\n",
              "      <td>4</td>\n",
              "    </tr>\n",
              "    <tr>\n",
              "      <th>44</th>\n",
              "      <td>364</td>\n",
              "      <td>5</td>\n",
              "    </tr>\n",
              "    <tr>\n",
              "      <th>45</th>\n",
              "      <td>365</td>\n",
              "      <td>2</td>\n",
              "    </tr>\n",
              "    <tr>\n",
              "      <th>46</th>\n",
              "      <td>366</td>\n",
              "      <td>3</td>\n",
              "    </tr>\n",
              "    <tr>\n",
              "      <th>47</th>\n",
              "      <td>367</td>\n",
              "      <td>5</td>\n",
              "    </tr>\n",
              "  </tbody>\n",
              "</table>\n",
              "</div>\n",
              "    <div class=\"colab-df-buttons\">\n",
              "\n",
              "  <div class=\"colab-df-container\">\n",
              "    <button class=\"colab-df-convert\" onclick=\"convertToInteractive('df-6740f16a-1465-4821-98f8-2327c0bf0a3c')\"\n",
              "            title=\"Convert this dataframe to an interactive table.\"\n",
              "            style=\"display:none;\">\n",
              "\n",
              "  <svg xmlns=\"http://www.w3.org/2000/svg\" height=\"24px\" viewBox=\"0 -960 960 960\">\n",
              "    <path d=\"M120-120v-720h720v720H120Zm60-500h600v-160H180v160Zm220 220h160v-160H400v160Zm0 220h160v-160H400v160ZM180-400h160v-160H180v160Zm440 0h160v-160H620v160ZM180-180h160v-160H180v160Zm440 0h160v-160H620v160Z\"/>\n",
              "  </svg>\n",
              "    </button>\n",
              "\n",
              "  <style>\n",
              "    .colab-df-container {\n",
              "      display:flex;\n",
              "      gap: 12px;\n",
              "    }\n",
              "\n",
              "    .colab-df-convert {\n",
              "      background-color: #E8F0FE;\n",
              "      border: none;\n",
              "      border-radius: 50%;\n",
              "      cursor: pointer;\n",
              "      display: none;\n",
              "      fill: #1967D2;\n",
              "      height: 32px;\n",
              "      padding: 0 0 0 0;\n",
              "      width: 32px;\n",
              "    }\n",
              "\n",
              "    .colab-df-convert:hover {\n",
              "      background-color: #E2EBFA;\n",
              "      box-shadow: 0px 1px 2px rgba(60, 64, 67, 0.3), 0px 1px 3px 1px rgba(60, 64, 67, 0.15);\n",
              "      fill: #174EA6;\n",
              "    }\n",
              "\n",
              "    .colab-df-buttons div {\n",
              "      margin-bottom: 4px;\n",
              "    }\n",
              "\n",
              "    [theme=dark] .colab-df-convert {\n",
              "      background-color: #3B4455;\n",
              "      fill: #D2E3FC;\n",
              "    }\n",
              "\n",
              "    [theme=dark] .colab-df-convert:hover {\n",
              "      background-color: #434B5C;\n",
              "      box-shadow: 0px 1px 3px 1px rgba(0, 0, 0, 0.15);\n",
              "      filter: drop-shadow(0px 1px 2px rgba(0, 0, 0, 0.3));\n",
              "      fill: #FFFFFF;\n",
              "    }\n",
              "  </style>\n",
              "\n",
              "    <script>\n",
              "      const buttonEl =\n",
              "        document.querySelector('#df-6740f16a-1465-4821-98f8-2327c0bf0a3c button.colab-df-convert');\n",
              "      buttonEl.style.display =\n",
              "        google.colab.kernel.accessAllowed ? 'block' : 'none';\n",
              "\n",
              "      async function convertToInteractive(key) {\n",
              "        const element = document.querySelector('#df-6740f16a-1465-4821-98f8-2327c0bf0a3c');\n",
              "        const dataTable =\n",
              "          await google.colab.kernel.invokeFunction('convertToInteractive',\n",
              "                                                    [key], {});\n",
              "        if (!dataTable) return;\n",
              "\n",
              "        const docLinkHtml = 'Like what you see? Visit the ' +\n",
              "          '<a target=\"_blank\" href=https://colab.research.google.com/notebooks/data_table.ipynb>data table notebook</a>'\n",
              "          + ' to learn more about interactive tables.';\n",
              "        element.innerHTML = '';\n",
              "        dataTable['output_type'] = 'display_data';\n",
              "        await google.colab.output.renderOutput(dataTable, element);\n",
              "        const docLink = document.createElement('div');\n",
              "        docLink.innerHTML = docLinkHtml;\n",
              "        element.appendChild(docLink);\n",
              "      }\n",
              "    </script>\n",
              "  </div>\n",
              "\n",
              "\n",
              "<div id=\"df-2b6f1575-777a-499f-a89a-0485828805f5\">\n",
              "  <button class=\"colab-df-quickchart\" onclick=\"quickchart('df-2b6f1575-777a-499f-a89a-0485828805f5')\"\n",
              "            title=\"Suggest charts.\"\n",
              "            style=\"display:none;\">\n",
              "\n",
              "<svg xmlns=\"http://www.w3.org/2000/svg\" height=\"24px\"viewBox=\"0 0 24 24\"\n",
              "     width=\"24px\">\n",
              "    <g>\n",
              "        <path d=\"M19 3H5c-1.1 0-2 .9-2 2v14c0 1.1.9 2 2 2h14c1.1 0 2-.9 2-2V5c0-1.1-.9-2-2-2zM9 17H7v-7h2v7zm4 0h-2V7h2v10zm4 0h-2v-4h2v4z\"/>\n",
              "    </g>\n",
              "</svg>\n",
              "  </button>\n",
              "\n",
              "<style>\n",
              "  .colab-df-quickchart {\n",
              "      --bg-color: #E8F0FE;\n",
              "      --fill-color: #1967D2;\n",
              "      --hover-bg-color: #E2EBFA;\n",
              "      --hover-fill-color: #174EA6;\n",
              "      --disabled-fill-color: #AAA;\n",
              "      --disabled-bg-color: #DDD;\n",
              "  }\n",
              "\n",
              "  [theme=dark] .colab-df-quickchart {\n",
              "      --bg-color: #3B4455;\n",
              "      --fill-color: #D2E3FC;\n",
              "      --hover-bg-color: #434B5C;\n",
              "      --hover-fill-color: #FFFFFF;\n",
              "      --disabled-bg-color: #3B4455;\n",
              "      --disabled-fill-color: #666;\n",
              "  }\n",
              "\n",
              "  .colab-df-quickchart {\n",
              "    background-color: var(--bg-color);\n",
              "    border: none;\n",
              "    border-radius: 50%;\n",
              "    cursor: pointer;\n",
              "    display: none;\n",
              "    fill: var(--fill-color);\n",
              "    height: 32px;\n",
              "    padding: 0;\n",
              "    width: 32px;\n",
              "  }\n",
              "\n",
              "  .colab-df-quickchart:hover {\n",
              "    background-color: var(--hover-bg-color);\n",
              "    box-shadow: 0 1px 2px rgba(60, 64, 67, 0.3), 0 1px 3px 1px rgba(60, 64, 67, 0.15);\n",
              "    fill: var(--button-hover-fill-color);\n",
              "  }\n",
              "\n",
              "  .colab-df-quickchart-complete:disabled,\n",
              "  .colab-df-quickchart-complete:disabled:hover {\n",
              "    background-color: var(--disabled-bg-color);\n",
              "    fill: var(--disabled-fill-color);\n",
              "    box-shadow: none;\n",
              "  }\n",
              "\n",
              "  .colab-df-spinner {\n",
              "    border: 2px solid var(--fill-color);\n",
              "    border-color: transparent;\n",
              "    border-bottom-color: var(--fill-color);\n",
              "    animation:\n",
              "      spin 1s steps(1) infinite;\n",
              "  }\n",
              "\n",
              "  @keyframes spin {\n",
              "    0% {\n",
              "      border-color: transparent;\n",
              "      border-bottom-color: var(--fill-color);\n",
              "      border-left-color: var(--fill-color);\n",
              "    }\n",
              "    20% {\n",
              "      border-color: transparent;\n",
              "      border-left-color: var(--fill-color);\n",
              "      border-top-color: var(--fill-color);\n",
              "    }\n",
              "    30% {\n",
              "      border-color: transparent;\n",
              "      border-left-color: var(--fill-color);\n",
              "      border-top-color: var(--fill-color);\n",
              "      border-right-color: var(--fill-color);\n",
              "    }\n",
              "    40% {\n",
              "      border-color: transparent;\n",
              "      border-right-color: var(--fill-color);\n",
              "      border-top-color: var(--fill-color);\n",
              "    }\n",
              "    60% {\n",
              "      border-color: transparent;\n",
              "      border-right-color: var(--fill-color);\n",
              "    }\n",
              "    80% {\n",
              "      border-color: transparent;\n",
              "      border-right-color: var(--fill-color);\n",
              "      border-bottom-color: var(--fill-color);\n",
              "    }\n",
              "    90% {\n",
              "      border-color: transparent;\n",
              "      border-bottom-color: var(--fill-color);\n",
              "    }\n",
              "  }\n",
              "</style>\n",
              "\n",
              "  <script>\n",
              "    async function quickchart(key) {\n",
              "      const quickchartButtonEl =\n",
              "        document.querySelector('#' + key + ' button');\n",
              "      quickchartButtonEl.disabled = true;  // To prevent multiple clicks.\n",
              "      quickchartButtonEl.classList.add('colab-df-spinner');\n",
              "      try {\n",
              "        const charts = await google.colab.kernel.invokeFunction(\n",
              "            'suggestCharts', [key], {});\n",
              "      } catch (error) {\n",
              "        console.error('Error during call to suggestCharts:', error);\n",
              "      }\n",
              "      quickchartButtonEl.classList.remove('colab-df-spinner');\n",
              "      quickchartButtonEl.classList.add('colab-df-quickchart-complete');\n",
              "    }\n",
              "    (() => {\n",
              "      let quickchartButtonEl =\n",
              "        document.querySelector('#df-2b6f1575-777a-499f-a89a-0485828805f5 button');\n",
              "      quickchartButtonEl.style.display =\n",
              "        google.colab.kernel.accessAllowed ? 'block' : 'none';\n",
              "    })();\n",
              "  </script>\n",
              "</div>\n",
              "    </div>\n",
              "  </div>\n"
            ]
          },
          "metadata": {},
          "execution_count": 7
        }
      ]
    },
    {
      "cell_type": "code",
      "source": [
        "labels = dict(zip(my_labels['№'], my_labels['Узел ЩЖ, TIRADS']))"
      ],
      "metadata": {
        "id": "eBPWqfV8wLlC"
      },
      "execution_count": null,
      "outputs": []
    },
    {
      "cell_type": "code",
      "source": [
        "for k in labels:\n",
        "    if labels[k] == 5:\n",
        "        labels[k] = 1\n",
        "    else:\n",
        "        labels[k] = 0"
      ],
      "metadata": {
        "id": "4CYxQSaX8Ybw"
      },
      "execution_count": null,
      "outputs": []
    },
    {
      "cell_type": "code",
      "source": [
        "del labels[202]\n",
        "del labels[346]\n",
        "del labels[363]\n",
        "del labels[365]\n",
        "del labels[366]"
      ],
      "metadata": {
        "id": "ZXtNdUNOWDMh"
      },
      "execution_count": null,
      "outputs": []
    },
    {
      "cell_type": "code",
      "source": [
        "labels"
      ],
      "metadata": {
        "colab": {
          "base_uri": "https://localhost:8080/"
        },
        "id": "UrvquClg8lyy",
        "outputId": "12ea2652-e4fe-43ef-8d1b-c45087e33de4"
      },
      "execution_count": null,
      "outputs": [
        {
          "output_type": "execute_result",
          "data": {
            "text/plain": [
              "{178: 0,\n",
              " 179: 1,\n",
              " 180: 0,\n",
              " 181: 1,\n",
              " 182: 0,\n",
              " 183: 1,\n",
              " 184: 1,\n",
              " 185: 1,\n",
              " 186: 1,\n",
              " 187: 1,\n",
              " 188: 0,\n",
              " 189: 0,\n",
              " 190: 0,\n",
              " 191: 1,\n",
              " 192: 0,\n",
              " 193: 0,\n",
              " 194: 1,\n",
              " 195: 1,\n",
              " 196: 0,\n",
              " 197: 1,\n",
              " 198: 0,\n",
              " 199: 0,\n",
              " 200: 0,\n",
              " 201: 0,\n",
              " 203: 1,\n",
              " 204: 1,\n",
              " 345: 1,\n",
              " 347: 0,\n",
              " 348: 0,\n",
              " 349: 0,\n",
              " 350: 0,\n",
              " 351: 0,\n",
              " 353: 0,\n",
              " 354: 0,\n",
              " 355: 1,\n",
              " 356: 1,\n",
              " 357: 0,\n",
              " 358: 1,\n",
              " 360: 0,\n",
              " 361: 1,\n",
              " 362: 0,\n",
              " 364: 1,\n",
              " 367: 1}"
            ]
          },
          "metadata": {},
          "execution_count": 11
        }
      ]
    },
    {
      "cell_type": "code",
      "source": [
        "device = torch.device('cuda' if torch.cuda.is_available() else 'cpu')"
      ],
      "metadata": {
        "id": "edbvv7yhdU0U"
      },
      "execution_count": null,
      "outputs": []
    },
    {
      "cell_type": "code",
      "source": [
        "device"
      ],
      "metadata": {
        "colab": {
          "base_uri": "https://localhost:8080/"
        },
        "id": "915P4DlYZ74B",
        "outputId": "2b95c4ef-5914-4fa8-b37a-b6491e3bd891"
      },
      "execution_count": null,
      "outputs": [
        {
          "output_type": "execute_result",
          "data": {
            "text/plain": [
              "device(type='cuda')"
            ]
          },
          "metadata": {},
          "execution_count": 14
        }
      ]
    },
    {
      "cell_type": "code",
      "source": [
        "data_dir = Path('/content/my_data/data')"
      ],
      "metadata": {
        "id": "eFOU4AXRwvUt"
      },
      "execution_count": null,
      "outputs": []
    },
    {
      "cell_type": "code",
      "source": [
        "def read_data(data_dir):\n",
        "    images, all_labels = [], []\n",
        "    for k in labels.keys():\n",
        "        label = labels[k]\n",
        "        folder_name = os.path.join(data_dir, str(k))\n",
        "        for file in os.listdir(folder_name):\n",
        "            name = os.path.basename(file)\n",
        "            if name.endswith('long.tif') or name.endswith('cross.tif'):\n",
        "                new_path = os.path.join(folder_name, name)\n",
        "                image = Image.open(new_path)\n",
        "                for i, page in enumerate(ImageSequence.Iterator(image)):\n",
        "                    images.append(page)\n",
        "                    all_labels.append(label)\n",
        "    return images, all_labels"
      ],
      "metadata": {
        "id": "fO6QDpqn3yFk"
      },
      "execution_count": null,
      "outputs": []
    },
    {
      "cell_type": "code",
      "source": [
        "all_data = read_data(data_dir)"
      ],
      "metadata": {
        "id": "rF10aVMMQTrg"
      },
      "execution_count": null,
      "outputs": []
    },
    {
      "cell_type": "code",
      "source": [
        "len(all_data[0])"
      ],
      "metadata": {
        "colab": {
          "base_uri": "https://localhost:8080/"
        },
        "id": "GBx3nfoBEpOR",
        "outputId": "d9e36925-22e3-4419-db8d-c67703b57525"
      },
      "execution_count": null,
      "outputs": [
        {
          "output_type": "execute_result",
          "data": {
            "text/plain": [
              "7344"
            ]
          },
          "metadata": {},
          "execution_count": 17
        }
      ]
    },
    {
      "cell_type": "code",
      "source": [
        "class TIRADSDataset(Dataset):\n",
        "    def __init__(self, files, labels):\n",
        "        super().__init__()\n",
        "        self.files = files\n",
        "        self.labels = labels\n",
        "        self.len_ = len(self.files)\n",
        "\n",
        "\n",
        "    def __len__(self):\n",
        "        return self.len_\n",
        "\n",
        "\n",
        "    def __getitem__(self, index):\n",
        "        transform = transforms.Compose([\n",
        "            transforms.ToTensor(),\n",
        "            transforms.RandomHorizontalFlip(p=0.5),\n",
        "            transforms.Normalize((0.5), (0.5))\n",
        "        ])\n",
        "\n",
        "        x = self.files[index]\n",
        "        x = self._prepare_sample(x)\n",
        "        x = np.array(x / 255, dtype='float32')\n",
        "        x = transform(x)\n",
        "\n",
        "        label = self.labels[index]\n",
        "        number = self.numbers[index]\n",
        "        return x, torch.tensor(label)\n",
        "\n",
        "    def _prepare_sample(self, image):\n",
        "        image = image.resize((224, 224))\n",
        "        return np.array(image)"
      ],
      "metadata": {
        "id": "haK04xqcXya3"
      },
      "execution_count": null,
      "outputs": []
    },
    {
      "cell_type": "code",
      "source": [
        "from sklearn.model_selection import train_test_split\n",
        "train_files, test_files, train_labels, test_labels = train_test_split(all_data[0], all_data[1], test_size=0.25, stratify=all_data[1])"
      ],
      "metadata": {
        "id": "5eDligjidzkw"
      },
      "execution_count": null,
      "outputs": []
    },
    {
      "cell_type": "code",
      "source": [
        "train_dataset = TIRADSDataset(train_files, train_labels)\n",
        "test_dataset = TIRADSDataset(test_files, test_labels)"
      ],
      "metadata": {
        "id": "2TmdoOR9GyeZ"
      },
      "execution_count": null,
      "outputs": []
    },
    {
      "cell_type": "code",
      "source": [
        "train_loader = DataLoader(train_dataset, batch_size=16, shuffle=True)\n",
        "test_loader = DataLoader(test_dataset, batch_size=16, shuffle=False)"
      ],
      "metadata": {
        "id": "t3utroY5MqRC"
      },
      "execution_count": null,
      "outputs": []
    },
    {
      "cell_type": "code",
      "source": [
        "def train(model, train_dataloader, test_dataloader, optimizer, criterion, epochs):\n",
        "    train_loss = []\n",
        "    test_loss = []\n",
        "    train_acc = []\n",
        "    test_acc = []\n",
        "    val_acc_f_best = 0\n",
        "    best_acc = 0\n",
        "    for epoch in tqdm_notebook(range(epochs)):\n",
        "        train_loss_ep = []\n",
        "        preds = []\n",
        "        target = []\n",
        "\n",
        "        model.train()\n",
        "        for batch, labels in train_dataloader:\n",
        "            batch = batch.to(device)\n",
        "            labels = labels.to(device)\n",
        "\n",
        "            optimizer.zero_grad()\n",
        "            output = model(batch)\n",
        "            loss = criterion(output, labels)\n",
        "            loss.backward()\n",
        "            optimizer.step()\n",
        "\n",
        "            preds.append(output.argmax(dim=1))\n",
        "            train_loss_ep.append(loss.item())\n",
        "            target.append(labels)\n",
        "\n",
        "        preds = torch.cat(preds)\n",
        "        target = torch.cat(target)\n",
        "        acc = (preds == target).float().mean().item()\n",
        "\n",
        "        train_acc.append(acc)\n",
        "        train_loss.append(sum(train_loss_ep) / len(train_loss_ep))\n",
        "        print(f'Train loss: {sum(train_loss_ep) / len(train_loss_ep)}. Train accuracy: {acc}')\n",
        "\n",
        "        test_loss_ep = []\n",
        "        test_preds = []\n",
        "        test_target = []\n",
        "\n",
        "        model.eval()\n",
        "        with torch.no_grad():\n",
        "            for batch, labels in test_dataloader:\n",
        "                batch = batch.to(device)\n",
        "                labels = labels.to(device)\n",
        "\n",
        "                output = model(batch)\n",
        "                loss = criterion(output, labels)\n",
        "\n",
        "                test_preds.append(output.argmax(dim=1))\n",
        "                test_loss_ep.append(loss.item())\n",
        "                test_target.append(labels)\n",
        "\n",
        "            test_preds = torch.cat(test_preds)\n",
        "            test_target = torch.cat(test_target)\n",
        "            acc = (test_preds == test_target).float().mean().item()\n",
        "            val_acc_f_best = acc\n",
        "\n",
        "            test_acc.append(acc)\n",
        "            test_loss.append(sum(test_loss_ep) / len(test_loss_ep))\n",
        "            print(f'Test loss: {sum(test_loss_ep) / len(test_loss_ep)}. Test accuracy: {acc}')\n",
        "\n",
        "        if val_acc_f_best > best_acc:\n",
        "            best_acc = val_acc_f_best\n",
        "            best_model_weights = model.state_dict()\n",
        "\n",
        "    model.load_state_dict(best_model_weights)\n",
        "    return model, train_loss, test_loss, train_acc, test_acc"
      ],
      "metadata": {
        "id": "wqvSeW5-jcHP"
      },
      "execution_count": null,
      "outputs": []
    },
    {
      "cell_type": "code",
      "source": [
        "model_resnet18 = models.resnet18(pretrained=True).to(device)\n",
        "print(model_resnet18)"
      ],
      "metadata": {
        "colab": {
          "base_uri": "https://localhost:8080/"
        },
        "id": "QbVwkiWTNp2t",
        "outputId": "9bd8fbfe-46f8-4370-bd84-0cd38dfcaa9a"
      },
      "execution_count": null,
      "outputs": [
        {
          "output_type": "stream",
          "name": "stderr",
          "text": [
            "/usr/local/lib/python3.10/dist-packages/torchvision/models/_utils.py:208: UserWarning: The parameter 'pretrained' is deprecated since 0.13 and may be removed in the future, please use 'weights' instead.\n",
            "  warnings.warn(\n",
            "/usr/local/lib/python3.10/dist-packages/torchvision/models/_utils.py:223: UserWarning: Arguments other than a weight enum or `None` for 'weights' are deprecated since 0.13 and may be removed in the future. The current behavior is equivalent to passing `weights=ResNet18_Weights.IMAGENET1K_V1`. You can also use `weights=ResNet18_Weights.DEFAULT` to get the most up-to-date weights.\n",
            "  warnings.warn(msg)\n",
            "Downloading: \"https://download.pytorch.org/models/resnet18-f37072fd.pth\" to /root/.cache/torch/hub/checkpoints/resnet18-f37072fd.pth\n",
            "100%|██████████| 44.7M/44.7M [00:00<00:00, 89.4MB/s]\n"
          ]
        },
        {
          "output_type": "stream",
          "name": "stdout",
          "text": [
            "ResNet(\n",
            "  (conv1): Conv2d(3, 64, kernel_size=(7, 7), stride=(2, 2), padding=(3, 3), bias=False)\n",
            "  (bn1): BatchNorm2d(64, eps=1e-05, momentum=0.1, affine=True, track_running_stats=True)\n",
            "  (relu): ReLU(inplace=True)\n",
            "  (maxpool): MaxPool2d(kernel_size=3, stride=2, padding=1, dilation=1, ceil_mode=False)\n",
            "  (layer1): Sequential(\n",
            "    (0): BasicBlock(\n",
            "      (conv1): Conv2d(64, 64, kernel_size=(3, 3), stride=(1, 1), padding=(1, 1), bias=False)\n",
            "      (bn1): BatchNorm2d(64, eps=1e-05, momentum=0.1, affine=True, track_running_stats=True)\n",
            "      (relu): ReLU(inplace=True)\n",
            "      (conv2): Conv2d(64, 64, kernel_size=(3, 3), stride=(1, 1), padding=(1, 1), bias=False)\n",
            "      (bn2): BatchNorm2d(64, eps=1e-05, momentum=0.1, affine=True, track_running_stats=True)\n",
            "    )\n",
            "    (1): BasicBlock(\n",
            "      (conv1): Conv2d(64, 64, kernel_size=(3, 3), stride=(1, 1), padding=(1, 1), bias=False)\n",
            "      (bn1): BatchNorm2d(64, eps=1e-05, momentum=0.1, affine=True, track_running_stats=True)\n",
            "      (relu): ReLU(inplace=True)\n",
            "      (conv2): Conv2d(64, 64, kernel_size=(3, 3), stride=(1, 1), padding=(1, 1), bias=False)\n",
            "      (bn2): BatchNorm2d(64, eps=1e-05, momentum=0.1, affine=True, track_running_stats=True)\n",
            "    )\n",
            "  )\n",
            "  (layer2): Sequential(\n",
            "    (0): BasicBlock(\n",
            "      (conv1): Conv2d(64, 128, kernel_size=(3, 3), stride=(2, 2), padding=(1, 1), bias=False)\n",
            "      (bn1): BatchNorm2d(128, eps=1e-05, momentum=0.1, affine=True, track_running_stats=True)\n",
            "      (relu): ReLU(inplace=True)\n",
            "      (conv2): Conv2d(128, 128, kernel_size=(3, 3), stride=(1, 1), padding=(1, 1), bias=False)\n",
            "      (bn2): BatchNorm2d(128, eps=1e-05, momentum=0.1, affine=True, track_running_stats=True)\n",
            "      (downsample): Sequential(\n",
            "        (0): Conv2d(64, 128, kernel_size=(1, 1), stride=(2, 2), bias=False)\n",
            "        (1): BatchNorm2d(128, eps=1e-05, momentum=0.1, affine=True, track_running_stats=True)\n",
            "      )\n",
            "    )\n",
            "    (1): BasicBlock(\n",
            "      (conv1): Conv2d(128, 128, kernel_size=(3, 3), stride=(1, 1), padding=(1, 1), bias=False)\n",
            "      (bn1): BatchNorm2d(128, eps=1e-05, momentum=0.1, affine=True, track_running_stats=True)\n",
            "      (relu): ReLU(inplace=True)\n",
            "      (conv2): Conv2d(128, 128, kernel_size=(3, 3), stride=(1, 1), padding=(1, 1), bias=False)\n",
            "      (bn2): BatchNorm2d(128, eps=1e-05, momentum=0.1, affine=True, track_running_stats=True)\n",
            "    )\n",
            "  )\n",
            "  (layer3): Sequential(\n",
            "    (0): BasicBlock(\n",
            "      (conv1): Conv2d(128, 256, kernel_size=(3, 3), stride=(2, 2), padding=(1, 1), bias=False)\n",
            "      (bn1): BatchNorm2d(256, eps=1e-05, momentum=0.1, affine=True, track_running_stats=True)\n",
            "      (relu): ReLU(inplace=True)\n",
            "      (conv2): Conv2d(256, 256, kernel_size=(3, 3), stride=(1, 1), padding=(1, 1), bias=False)\n",
            "      (bn2): BatchNorm2d(256, eps=1e-05, momentum=0.1, affine=True, track_running_stats=True)\n",
            "      (downsample): Sequential(\n",
            "        (0): Conv2d(128, 256, kernel_size=(1, 1), stride=(2, 2), bias=False)\n",
            "        (1): BatchNorm2d(256, eps=1e-05, momentum=0.1, affine=True, track_running_stats=True)\n",
            "      )\n",
            "    )\n",
            "    (1): BasicBlock(\n",
            "      (conv1): Conv2d(256, 256, kernel_size=(3, 3), stride=(1, 1), padding=(1, 1), bias=False)\n",
            "      (bn1): BatchNorm2d(256, eps=1e-05, momentum=0.1, affine=True, track_running_stats=True)\n",
            "      (relu): ReLU(inplace=True)\n",
            "      (conv2): Conv2d(256, 256, kernel_size=(3, 3), stride=(1, 1), padding=(1, 1), bias=False)\n",
            "      (bn2): BatchNorm2d(256, eps=1e-05, momentum=0.1, affine=True, track_running_stats=True)\n",
            "    )\n",
            "  )\n",
            "  (layer4): Sequential(\n",
            "    (0): BasicBlock(\n",
            "      (conv1): Conv2d(256, 512, kernel_size=(3, 3), stride=(2, 2), padding=(1, 1), bias=False)\n",
            "      (bn1): BatchNorm2d(512, eps=1e-05, momentum=0.1, affine=True, track_running_stats=True)\n",
            "      (relu): ReLU(inplace=True)\n",
            "      (conv2): Conv2d(512, 512, kernel_size=(3, 3), stride=(1, 1), padding=(1, 1), bias=False)\n",
            "      (bn2): BatchNorm2d(512, eps=1e-05, momentum=0.1, affine=True, track_running_stats=True)\n",
            "      (downsample): Sequential(\n",
            "        (0): Conv2d(256, 512, kernel_size=(1, 1), stride=(2, 2), bias=False)\n",
            "        (1): BatchNorm2d(512, eps=1e-05, momentum=0.1, affine=True, track_running_stats=True)\n",
            "      )\n",
            "    )\n",
            "    (1): BasicBlock(\n",
            "      (conv1): Conv2d(512, 512, kernel_size=(3, 3), stride=(1, 1), padding=(1, 1), bias=False)\n",
            "      (bn1): BatchNorm2d(512, eps=1e-05, momentum=0.1, affine=True, track_running_stats=True)\n",
            "      (relu): ReLU(inplace=True)\n",
            "      (conv2): Conv2d(512, 512, kernel_size=(3, 3), stride=(1, 1), padding=(1, 1), bias=False)\n",
            "      (bn2): BatchNorm2d(512, eps=1e-05, momentum=0.1, affine=True, track_running_stats=True)\n",
            "    )\n",
            "  )\n",
            "  (avgpool): AdaptiveAvgPool2d(output_size=(1, 1))\n",
            "  (fc): Linear(in_features=512, out_features=1000, bias=True)\n",
            ")\n"
          ]
        }
      ]
    },
    {
      "cell_type": "code",
      "source": [
        "numb = model_resnet18.fc.in_features\n",
        "model_resnet18.fc = nn.Linear(numb, 2)\n",
        "model_resnet18.conv1 = nn.Conv2d(1, 64, kernel_size=(7, 7), stride=(2, 2), padding=(3, 3), bias=False)\n",
        "model_resnet18 = model_resnet18.to(device)"
      ],
      "metadata": {
        "id": "dRw9ppFSspvL"
      },
      "execution_count": null,
      "outputs": []
    },
    {
      "cell_type": "code",
      "source": [
        "for name, params in model_resnet18.named_parameters():\n",
        "    print(name, 'requires_grad:', params.requires_grad)"
      ],
      "metadata": {
        "colab": {
          "base_uri": "https://localhost:8080/"
        },
        "id": "4AuC-FtPtCQl",
        "outputId": "020ce40b-12da-4fb3-f0f5-08d36d1b6f65"
      },
      "execution_count": null,
      "outputs": [
        {
          "output_type": "stream",
          "name": "stdout",
          "text": [
            "conv1.weight requires_grad: True\n",
            "bn1.weight requires_grad: True\n",
            "bn1.bias requires_grad: True\n",
            "layer1.0.conv1.weight requires_grad: True\n",
            "layer1.0.bn1.weight requires_grad: True\n",
            "layer1.0.bn1.bias requires_grad: True\n",
            "layer1.0.conv2.weight requires_grad: True\n",
            "layer1.0.bn2.weight requires_grad: True\n",
            "layer1.0.bn2.bias requires_grad: True\n",
            "layer1.1.conv1.weight requires_grad: True\n",
            "layer1.1.bn1.weight requires_grad: True\n",
            "layer1.1.bn1.bias requires_grad: True\n",
            "layer1.1.conv2.weight requires_grad: True\n",
            "layer1.1.bn2.weight requires_grad: True\n",
            "layer1.1.bn2.bias requires_grad: True\n",
            "layer2.0.conv1.weight requires_grad: True\n",
            "layer2.0.bn1.weight requires_grad: True\n",
            "layer2.0.bn1.bias requires_grad: True\n",
            "layer2.0.conv2.weight requires_grad: True\n",
            "layer2.0.bn2.weight requires_grad: True\n",
            "layer2.0.bn2.bias requires_grad: True\n",
            "layer2.0.downsample.0.weight requires_grad: True\n",
            "layer2.0.downsample.1.weight requires_grad: True\n",
            "layer2.0.downsample.1.bias requires_grad: True\n",
            "layer2.1.conv1.weight requires_grad: True\n",
            "layer2.1.bn1.weight requires_grad: True\n",
            "layer2.1.bn1.bias requires_grad: True\n",
            "layer2.1.conv2.weight requires_grad: True\n",
            "layer2.1.bn2.weight requires_grad: True\n",
            "layer2.1.bn2.bias requires_grad: True\n",
            "layer3.0.conv1.weight requires_grad: True\n",
            "layer3.0.bn1.weight requires_grad: True\n",
            "layer3.0.bn1.bias requires_grad: True\n",
            "layer3.0.conv2.weight requires_grad: True\n",
            "layer3.0.bn2.weight requires_grad: True\n",
            "layer3.0.bn2.bias requires_grad: True\n",
            "layer3.0.downsample.0.weight requires_grad: True\n",
            "layer3.0.downsample.1.weight requires_grad: True\n",
            "layer3.0.downsample.1.bias requires_grad: True\n",
            "layer3.1.conv1.weight requires_grad: True\n",
            "layer3.1.bn1.weight requires_grad: True\n",
            "layer3.1.bn1.bias requires_grad: True\n",
            "layer3.1.conv2.weight requires_grad: True\n",
            "layer3.1.bn2.weight requires_grad: True\n",
            "layer3.1.bn2.bias requires_grad: True\n",
            "layer4.0.conv1.weight requires_grad: True\n",
            "layer4.0.bn1.weight requires_grad: True\n",
            "layer4.0.bn1.bias requires_grad: True\n",
            "layer4.0.conv2.weight requires_grad: True\n",
            "layer4.0.bn2.weight requires_grad: True\n",
            "layer4.0.bn2.bias requires_grad: True\n",
            "layer4.0.downsample.0.weight requires_grad: True\n",
            "layer4.0.downsample.1.weight requires_grad: True\n",
            "layer4.0.downsample.1.bias requires_grad: True\n",
            "layer4.1.conv1.weight requires_grad: True\n",
            "layer4.1.bn1.weight requires_grad: True\n",
            "layer4.1.bn1.bias requires_grad: True\n",
            "layer4.1.conv2.weight requires_grad: True\n",
            "layer4.1.bn2.weight requires_grad: True\n",
            "layer4.1.bn2.bias requires_grad: True\n",
            "fc.weight requires_grad: True\n",
            "fc.bias requires_grad: True\n"
          ]
        }
      ]
    },
    {
      "cell_type": "code",
      "source": [
        "for name, params in model_resnet18.named_parameters():\n",
        "    if name.startswith('layer4.1.') or name.startswith('fc.'):\n",
        "        params.requires_grad = True\n",
        "    else:\n",
        "        params.requires_grad = False\n",
        "    print(name, 'requires_grad:', params.requires_grad)"
      ],
      "metadata": {
        "colab": {
          "base_uri": "https://localhost:8080/"
        },
        "id": "seb-DWWqtI3y",
        "outputId": "a8b49294-278e-427a-f3e9-b46913a22d95"
      },
      "execution_count": null,
      "outputs": [
        {
          "output_type": "stream",
          "name": "stdout",
          "text": [
            "conv1.weight requires_grad: False\n",
            "bn1.weight requires_grad: False\n",
            "bn1.bias requires_grad: False\n",
            "layer1.0.conv1.weight requires_grad: False\n",
            "layer1.0.bn1.weight requires_grad: False\n",
            "layer1.0.bn1.bias requires_grad: False\n",
            "layer1.0.conv2.weight requires_grad: False\n",
            "layer1.0.bn2.weight requires_grad: False\n",
            "layer1.0.bn2.bias requires_grad: False\n",
            "layer1.1.conv1.weight requires_grad: False\n",
            "layer1.1.bn1.weight requires_grad: False\n",
            "layer1.1.bn1.bias requires_grad: False\n",
            "layer1.1.conv2.weight requires_grad: False\n",
            "layer1.1.bn2.weight requires_grad: False\n",
            "layer1.1.bn2.bias requires_grad: False\n",
            "layer2.0.conv1.weight requires_grad: False\n",
            "layer2.0.bn1.weight requires_grad: False\n",
            "layer2.0.bn1.bias requires_grad: False\n",
            "layer2.0.conv2.weight requires_grad: False\n",
            "layer2.0.bn2.weight requires_grad: False\n",
            "layer2.0.bn2.bias requires_grad: False\n",
            "layer2.0.downsample.0.weight requires_grad: False\n",
            "layer2.0.downsample.1.weight requires_grad: False\n",
            "layer2.0.downsample.1.bias requires_grad: False\n",
            "layer2.1.conv1.weight requires_grad: False\n",
            "layer2.1.bn1.weight requires_grad: False\n",
            "layer2.1.bn1.bias requires_grad: False\n",
            "layer2.1.conv2.weight requires_grad: False\n",
            "layer2.1.bn2.weight requires_grad: False\n",
            "layer2.1.bn2.bias requires_grad: False\n",
            "layer3.0.conv1.weight requires_grad: False\n",
            "layer3.0.bn1.weight requires_grad: False\n",
            "layer3.0.bn1.bias requires_grad: False\n",
            "layer3.0.conv2.weight requires_grad: False\n",
            "layer3.0.bn2.weight requires_grad: False\n",
            "layer3.0.bn2.bias requires_grad: False\n",
            "layer3.0.downsample.0.weight requires_grad: False\n",
            "layer3.0.downsample.1.weight requires_grad: False\n",
            "layer3.0.downsample.1.bias requires_grad: False\n",
            "layer3.1.conv1.weight requires_grad: False\n",
            "layer3.1.bn1.weight requires_grad: False\n",
            "layer3.1.bn1.bias requires_grad: False\n",
            "layer3.1.conv2.weight requires_grad: False\n",
            "layer3.1.bn2.weight requires_grad: False\n",
            "layer3.1.bn2.bias requires_grad: False\n",
            "layer4.0.conv1.weight requires_grad: False\n",
            "layer4.0.bn1.weight requires_grad: False\n",
            "layer4.0.bn1.bias requires_grad: False\n",
            "layer4.0.conv2.weight requires_grad: False\n",
            "layer4.0.bn2.weight requires_grad: False\n",
            "layer4.0.bn2.bias requires_grad: False\n",
            "layer4.0.downsample.0.weight requires_grad: False\n",
            "layer4.0.downsample.1.weight requires_grad: False\n",
            "layer4.0.downsample.1.bias requires_grad: False\n",
            "layer4.1.conv1.weight requires_grad: True\n",
            "layer4.1.bn1.weight requires_grad: True\n",
            "layer4.1.bn1.bias requires_grad: True\n",
            "layer4.1.conv2.weight requires_grad: True\n",
            "layer4.1.bn2.weight requires_grad: True\n",
            "layer4.1.bn2.bias requires_grad: True\n",
            "fc.weight requires_grad: True\n",
            "fc.bias requires_grad: True\n"
          ]
        }
      ]
    },
    {
      "cell_type": "code",
      "source": [
        "opt = torch.optim.Adam((list(model_resnet18.parameters()))[-8:], lr=1e-3)\n",
        "criterion = loss = nn.CrossEntropyLoss()"
      ],
      "metadata": {
        "id": "0Iud1xgAteeL"
      },
      "execution_count": null,
      "outputs": []
    },
    {
      "cell_type": "code",
      "source": [
        "best_model, train_loss, test_loss, train_acc, test_acc = train(model_resnet18, train_loader, test_loader, opt, criterion, epochs=20)"
      ],
      "metadata": {
        "colab": {
          "base_uri": "https://localhost:8080/",
          "height": 780,
          "referenced_widgets": [
            "1f0c93ff0fae411cb6c34b224032930c",
            "66b9e79798324334b0e35b0322a68adf",
            "8bd2515983794333a1dd6dd6acd57f67",
            "e43aae0f910f4587a3f2a6443b988937",
            "de1928396bf64f4095aac51e631375d9",
            "3a719948448e4a959dad53bf8fef7dd9",
            "18f90093855f401f866a4afeeab9b333",
            "22d304d680a0430a96010673c38cd26e",
            "64b6c2fb803244f4bd453435457e64a0",
            "40c8b9292ebb49c0a3b313e66b334897",
            "b1635e26cd524ed7bed70ac0ea44fcfb"
          ]
        },
        "id": "T9v4RZR7uJfh",
        "outputId": "88b285fa-f748-407f-e037-0c6c43b5c524"
      },
      "execution_count": null,
      "outputs": [
        {
          "output_type": "stream",
          "name": "stderr",
          "text": [
            "<ipython-input-23-0d733ab47059>:8: TqdmDeprecationWarning: This function will be removed in tqdm==5.0.0\n",
            "Please use `tqdm.notebook.tqdm` instead of `tqdm.tqdm_notebook`\n",
            "  for epoch in tqdm_notebook(range(epochs)):\n"
          ]
        },
        {
          "output_type": "display_data",
          "data": {
            "text/plain": [
              "  0%|          | 0/20 [00:00<?, ?it/s]"
            ],
            "application/vnd.jupyter.widget-view+json": {
              "version_major": 2,
              "version_minor": 0,
              "model_id": "1f0c93ff0fae411cb6c34b224032930c"
            }
          },
          "metadata": {}
        },
        {
          "output_type": "stream",
          "name": "stdout",
          "text": [
            "Train loss: 0.08317894141041177. Train accuracy: 0.9689542651176453\n",
            "Test loss: 0.0270716960964384. Test accuracy: 0.9831154346466064\n",
            "Train loss: 0.020270481284066024. Train accuracy: 0.9925562739372253\n",
            "Test loss: 4.685550440191709e-05. Test accuracy: 1.0\n",
            "Train loss: 0.0010237353007313146. Train accuracy: 0.9998184442520142\n",
            "Test loss: 2.7009876396772124e-06. Test accuracy: 1.0\n",
            "Train loss: 0.00018260252170108104. Train accuracy: 1.0\n",
            "Test loss: 1.1590895536281333e-06. Test accuracy: 1.0\n",
            "Train loss: 0.0009579356602564712. Train accuracy: 0.9998184442520142\n",
            "Test loss: 1.3474805431611536e-06. Test accuracy: 1.0\n",
            "Train loss: 0.029579370943028534. Train accuracy: 0.9907407164573669\n",
            "Test loss: 0.00023475764280276408. Test accuracy: 1.0\n",
            "Train loss: 0.0179839948342312. Train accuracy: 0.9938271641731262\n",
            "Test loss: 3.8844117036363886e-05. Test accuracy: 1.0\n",
            "Train loss: 0.0019544470033797125. Train accuracy: 0.9994553327560425\n",
            "Test loss: 2.266056868935691e-06. Test accuracy: 1.0\n",
            "Train loss: 0.00021369978220005196. Train accuracy: 1.0\n",
            "Test loss: 8.321056358038549e-07. Test accuracy: 1.0\n",
            "Train loss: 0.0002854955567145378. Train accuracy: 1.0\n",
            "Test loss: 4.034744580294142e-07. Test accuracy: 1.0\n",
            "Train loss: 0.015539437165136586. Train accuracy: 0.9952796101570129\n",
            "Test loss: 0.00015856690931024747. Test accuracy: 1.0\n",
            "Train loss: 0.018419427601129034. Train accuracy: 0.9961873888969421\n",
            "Test loss: 1.495647364347109e-05. Test accuracy: 1.0\n",
            "Train loss: 0.0029244877642424292. Train accuracy: 0.9985475540161133\n",
            "Test loss: 5.01745611640929e-06. Test accuracy: 1.0\n",
            "Train loss: 0.005866707491749238. Train accuracy: 0.9990922212600708\n",
            "Test loss: 1.4984161063209642e-05. Test accuracy: 1.0\n",
            "Train loss: 0.003812119162364854. Train accuracy: 0.9981844425201416\n",
            "Test loss: 2.6447483825395664e-05. Test accuracy: 1.0\n",
            "Train loss: 0.011973497003218547. Train accuracy: 0.9969136118888855\n",
            "Test loss: 4.226171253593359e-06. Test accuracy: 1.0\n",
            "Train loss: 0.01276989544579972. Train accuracy: 0.9969136118888855\n",
            "Test loss: 2.0310505808828834e-06. Test accuracy: 1.0\n",
            "Train loss: 0.010012467858618297. Train accuracy: 0.9960058331489563\n",
            "Test loss: 1.7374852625945644e-06. Test accuracy: 1.0\n",
            "Train loss: 0.0004955112193074452. Train accuracy: 1.0\n",
            "Test loss: 8.511532489292692e-07. Test accuracy: 1.0\n",
            "Train loss: 0.00023027254682973428. Train accuracy: 1.0\n",
            "Test loss: 3.235912857707282e-07. Test accuracy: 1.0\n"
          ]
        }
      ]
    },
    {
      "cell_type": "code",
      "source": [
        "plt.figure(figsize=(7, 5))\n",
        "plt.plot(train_loss, label=\"train_loss\")\n",
        "plt.plot(test_loss, label=\"test_loss\")\n",
        "plt.title('Losses')\n",
        "plt.xlabel(\"epochs\")\n",
        "plt.ylabel(\"loss\")\n",
        "plt.legend()\n",
        "plt.show()"
      ],
      "metadata": {
        "colab": {
          "base_uri": "https://localhost:8080/",
          "height": 487
        },
        "id": "njDQN3lmEXEY",
        "outputId": "ea92dc55-3cd2-4cd6-b472-e3a88719ccd6"
      },
      "execution_count": null,
      "outputs": [
        {
          "output_type": "display_data",
          "data": {
            "text/plain": [
              "<Figure size 700x500 with 1 Axes>"
            ],
            "image/png": "[encoded data removed]"
          },
          "metadata": {}
        }
      ]
    },
    {
      "cell_type": "markdown",
      "source": [
        "Функция потерь на тренировочных данны демонстрирует повторяющееся, ступенчатое поведение. Возможно, входные данные, видимые моделью, сами демонстрируют повторяющееся поведение. Это связано с тем, что в тестовом и тренировочном датасетах много сильно схожих изображений из одних кинопетель, соотвественно, для модели данные практически повторяют друг друга."
      ],
      "metadata": {
        "id": "oS_HVwAUJqvL"
      }
    },
    {
      "cell_type": "code",
      "source": [
        "plt.figure(figsize=(7, 5))\n",
        "plt.plot(train_acc, label=\"train_acc\")\n",
        "plt.plot(test_acc, label=\"test_acc\")\n",
        "plt.title('Accuracies')\n",
        "plt.xlabel(\"epochs\")\n",
        "plt.ylabel(\"accuracy\")\n",
        "plt.legend()\n",
        "plt.show()"
      ],
      "metadata": {
        "colab": {
          "base_uri": "https://localhost:8080/",
          "height": 487
        },
        "id": "XzZNKuiqFIw1",
        "outputId": "f607a51e-2de2-4efc-f7fb-5180d8218403"
      },
      "execution_count": null,
      "outputs": [
        {
          "output_type": "display_data",
          "data": {
            "text/plain": [
              "<Figure size 700x500 with 1 Axes>"
            ],
            "image/png": "[encoded data removed]"
          },
          "metadata": {}
        }
      ]
    },
    {
      "cell_type": "code",
      "source": [
        "print(f'Epoch of maximum accuracy on training data: {train_acc.index(max(train_acc)) + 1}')\n",
        "print(f'Epoch of minimum loss on training data: {train_loss.index(min(train_loss)) + 1}')"
      ],
      "metadata": {
        "colab": {
          "base_uri": "https://localhost:8080/"
        },
        "id": "sfy1IlQWHifw",
        "outputId": "6fc40bc4-3729-43a4-b73c-0e76dd72c207"
      },
      "execution_count": null,
      "outputs": [
        {
          "output_type": "stream",
          "name": "stdout",
          "text": [
            "Epoch of maximum accuracy on training data: 4\n",
            "Epoch of minimum loss on training data: 19\n"
          ]
        }
      ]
    },
    {
      "cell_type": "code",
      "source": [
        "print(f'Epoch of maximum accuracy on testing data: {test_acc.index(max(test_acc)) + 1}')\n",
        "print(f'Epoch of minimum loss on testing data: {test_loss.index(min(test_loss)) + 1}')"
      ],
      "metadata": {
        "colab": {
          "base_uri": "https://localhost:8080/"
        },
        "id": "qZ-9dp-FHxh4",
        "outputId": "ac453da8-22e4-4f38-a4eb-232ddfb21e12"
      },
      "execution_count": null,
      "outputs": [
        {
          "output_type": "stream",
          "name": "stdout",
          "text": [
            "Epoch of maximum accuracy on testing data: 2\n",
            "Epoch of minimum loss on testing data: 19\n"
          ]
        }
      ]
    },
    {
      "cell_type": "markdown",
      "source": [
        "# Testing"
      ],
      "metadata": {
        "id": "eHB2EC_bav9I"
      }
    },
    {
      "cell_type": "code",
      "source": [
        "!unzip -q /content/gdrive/MyDrive/new_data.zip -d test_data"
      ],
      "metadata": {
        "id": "jxMfNMPMavv3"
      },
      "execution_count": null,
      "outputs": []
    },
    {
      "cell_type": "code",
      "source": [
        "!ls test_data/new_data"
      ],
      "metadata": {
        "colab": {
          "base_uri": "https://localhost:8080/"
        },
        "id": "xnJ0OXFTd_Wo",
        "outputId": "a2852f0f-5460-4df0-8557-2336571bf199"
      },
      "execution_count": null,
      "outputs": [
        {
          "output_type": "stream",
          "name": "stdout",
          "text": [
            "101_cross.tif  140_long.tif  67_cross.tif  77_cross.tif  88_cross.tif\n",
            "101_long.tif   143_long.tif  71_cross.tif  80_cross.tif  90_long.tif\n",
            "103_long.tif   37_long.tif   72_long.tif   80_long.tif\t 94_cross.tif\n",
            "114_long.tif   61_cross.tif  73_cross.tif  87_cross.tif  94_long.tif\n"
          ]
        }
      ]
    },
    {
      "cell_type": "code",
      "source": [
        "test_data_dir = Path('/content/test_data/new_data')"
      ],
      "metadata": {
        "id": "EUs5WRSEeDTr"
      },
      "execution_count": null,
      "outputs": []
    },
    {
      "cell_type": "code",
      "source": [
        "def read_test_data(data_dir):\n",
        "    images, number = [], []\n",
        "    for file in os.listdir(data_dir):\n",
        "        name = os.path.basename(file)\n",
        "        index = name.index('_')\n",
        "        numb = str(name[:index])\n",
        "        new_path = os.path.join(data_dir, name)\n",
        "        image = Image.open(new_path)\n",
        "        for i, page in enumerate(ImageSequence.Iterator(image)):\n",
        "            images.append(page)\n",
        "            number.append(numb)\n",
        "    return images, number"
      ],
      "metadata": {
        "id": "W-Dw2ECuePPf"
      },
      "execution_count": null,
      "outputs": []
    },
    {
      "cell_type": "code",
      "source": [
        "test_files, test_number = read_test_data(test_data_dir)"
      ],
      "metadata": {
        "id": "UP0PfyzMfBYE"
      },
      "execution_count": null,
      "outputs": []
    },
    {
      "cell_type": "code",
      "source": [
        "len(test_files)"
      ],
      "metadata": {
        "colab": {
          "base_uri": "https://localhost:8080/"
        },
        "id": "Wj8tGvYrfHMa",
        "outputId": "89d32939-c9c0-4a7c-aea1-77f298b646f7"
      },
      "execution_count": null,
      "outputs": [
        {
          "output_type": "execute_result",
          "data": {
            "text/plain": [
              "1365"
            ]
          },
          "metadata": {},
          "execution_count": 76
        }
      ]
    },
    {
      "cell_type": "code",
      "source": [
        "class TIRADSDatasetTest(Dataset):\n",
        "    def __init__(self, files, numbers):\n",
        "        super().__init__()\n",
        "        self.files = files\n",
        "        self.numbers = numbers\n",
        "        self.len_ = len(self.files)\n",
        "\n",
        "\n",
        "    def __len__(self):\n",
        "        return self.len_\n",
        "\n",
        "\n",
        "    def __getitem__(self, index):\n",
        "        transform = transforms.Compose([\n",
        "            transforms.ToTensor(),\n",
        "            transforms.RandomHorizontalFlip(p=0.5),\n",
        "            transforms.Normalize((0.5), (0.5))\n",
        "        ])\n",
        "\n",
        "        x = self.files[index]\n",
        "        x = self._prepare_sample(x)\n",
        "        x = np.array(x / 255, dtype='float32')\n",
        "        x = transform(x)\n",
        "\n",
        "        number = self.numbers[index]\n",
        "        return x, number\n",
        "\n",
        "    def _prepare_sample(self, image):\n",
        "        image = image.resize((224, 224))\n",
        "        return np.array(image)"
      ],
      "metadata": {
        "id": "f2NMuQFqvLPW"
      },
      "execution_count": null,
      "outputs": []
    },
    {
      "cell_type": "code",
      "source": [
        "test_dataset = TIRADSDatasetTest(test_files, test_labels, test_number)"
      ],
      "metadata": {
        "id": "PyhUqAyygBJt"
      },
      "execution_count": null,
      "outputs": []
    },
    {
      "cell_type": "code",
      "source": [
        "test_loader = DataLoader(test_dataset, batch_size=16, shuffle=False)"
      ],
      "metadata": {
        "id": "DGD3z4KFg5fz"
      },
      "execution_count": null,
      "outputs": []
    },
    {
      "cell_type": "code",
      "source": [
        "def predict_test(model, loader, device=device):\n",
        "    model.eval()\n",
        "    test_preds = []\n",
        "    ans = {}\n",
        "    count_numb = {}\n",
        "    numbers = []\n",
        "    with torch.no_grad():\n",
        "          for batch, labels, number in loader:\n",
        "              batch = batch.to(device)\n",
        "              output = model(batch)\n",
        "              test_preds.append(output.argmax(dim=1))\n",
        "              number = list(number)\n",
        "              numbers.extend(number)\n",
        "          test_preds = torch.cat(test_preds)\n",
        "          for i in range(len(numbers)):\n",
        "              if numbers[i] in ans:\n",
        "                  ans[numbers[i]] += test_preds[i]\n",
        "                  count_numb[numbers[i]] += 1\n",
        "              else:\n",
        "                  ans[numbers[i]] = test_preds[i]\n",
        "                  count_numb[numbers[i]] = 1\n",
        "    return test_preds, ans, count_numb"
      ],
      "metadata": {
        "id": "yaUkPDJthP0s"
      },
      "execution_count": null,
      "outputs": []
    },
    {
      "cell_type": "code",
      "source": [
        "test_pred_label, ans, count_numb = predict_test(best_model, test_loader)"
      ],
      "metadata": {
        "id": "1-LDQP8dmWBX"
      },
      "execution_count": null,
      "outputs": []
    },
    {
      "cell_type": "code",
      "source": [
        "preds = {}\n",
        "for key in ans:\n",
        "    preds[key] = ans[key] / count_numb[key]"
      ],
      "metadata": {
        "id": "z85Kxraw36JB"
      },
      "execution_count": null,
      "outputs": []
    },
    {
      "cell_type": "code",
      "source": [
        "preds"
      ],
      "metadata": {
        "colab": {
          "base_uri": "https://localhost:8080/"
        },
        "id": "SGWtDXSk4VwA",
        "outputId": "d071c959-da49-4051-9c3c-d65de223ab75"
      },
      "execution_count": null,
      "outputs": [
        {
          "output_type": "execute_result",
          "data": {
            "text/plain": [
              "{'71': tensor(0., device='cuda:0'),\n",
              " '67': tensor(1., device='cuda:0'),\n",
              " '114': tensor(0.5195, device='cuda:0'),\n",
              " '80': tensor(1., device='cuda:0'),\n",
              " '103': tensor(0.5143, device='cuda:0'),\n",
              " '143': tensor(0.5000, device='cuda:0'),\n",
              " '101': tensor(0.3182, device='cuda:0'),\n",
              " '88': tensor(1., device='cuda:0'),\n",
              " '37': tensor(1., device='cuda:0'),\n",
              " '77': tensor(0.4455, device='cuda:0'),\n",
              " '140': tensor(0.4524, device='cuda:0'),\n",
              " '61': tensor(0., device='cuda:0'),\n",
              " '87': tensor(0., device='cuda:0'),\n",
              " '90': tensor(1.0000, device='cuda:0'),\n",
              " '72': tensor(0.4464, device='cuda:0'),\n",
              " '94': tensor(0.7639, device='cuda:0'),\n",
              " '73': tensor(1., device='cuda:0')}"
            ]
          },
          "metadata": {},
          "execution_count": 133
        }
      ]
    },
    {
      "cell_type": "code",
      "source": [
        "last_preds = {}\n",
        "for key in preds:\n",
        "    last_preds[key] = round(preds[key].item())"
      ],
      "metadata": {
        "id": "o6cxVYiE4Y60"
      },
      "execution_count": null,
      "outputs": []
    },
    {
      "cell_type": "code",
      "source": [
        "last_preds"
      ],
      "metadata": {
        "colab": {
          "base_uri": "https://localhost:8080/"
        },
        "id": "-6xB9Bgy4g6I",
        "outputId": "bb3da84b-11ee-4626-b027-7a9fc832128d"
      },
      "execution_count": null,
      "outputs": [
        {
          "output_type": "execute_result",
          "data": {
            "text/plain": [
              "{'71': 0,\n",
              " '67': 1,\n",
              " '114': 1,\n",
              " '80': 1,\n",
              " '103': 1,\n",
              " '143': 0,\n",
              " '101': 0,\n",
              " '88': 1,\n",
              " '37': 1,\n",
              " '77': 0,\n",
              " '140': 0,\n",
              " '61': 0,\n",
              " '87': 0,\n",
              " '90': 1,\n",
              " '72': 0,\n",
              " '94': 1,\n",
              " '73': 1}"
            ]
          },
          "metadata": {},
          "execution_count": 136
        }
      ]
    },
    {
      "cell_type": "code",
      "source": [
        "data = {'id': last_preds.keys(),\n",
        "        'label': last_preds.values()}\n",
        "test_labels_prediction = pd.DataFrame.from_dict(data)\n",
        "test_labels_prediction"
      ],
      "metadata": {
        "colab": {
          "base_uri": "https://localhost:8080/",
          "height": 576
        },
        "id": "wreW1Sk8oEmv",
        "outputId": "f84fb72a-35b9-4fb8-a7d0-fa041a79fd4d"
      },
      "execution_count": null,
      "outputs": [
        {
          "output_type": "execute_result",
          "data": {
            "text/plain": [
              "     id  label\n",
              "0    71      0\n",
              "1    67      1\n",
              "2   114      1\n",
              "3    80      1\n",
              "4   103      1\n",
              "5   143      0\n",
              "6   101      0\n",
              "7    88      1\n",
              "8    37      1\n",
              "9    77      0\n",
              "10  140      0\n",
              "11   61      0\n",
              "12   87      0\n",
              "13   90      1\n",
              "14   72      0\n",
              "15   94      1\n",
              "16   73      1"
            ],
            "text/html": [
              "\n",
              "  <div id=\"df-3e105076-7ea7-4138-a972-a633fffc049e\" class=\"colab-df-container\">\n",
              "    <div>\n",
              "<style scoped>\n",
              "    .dataframe tbody tr th:only-of-type {\n",
              "        vertical-align: middle;\n",
              "    }\n",
              "\n",
              "    .dataframe tbody tr th {\n",
              "        vertical-align: top;\n",
              "    }\n",
              "\n",
              "    .dataframe thead th {\n",
              "        text-align: right;\n",
              "    }\n",
              "</style>\n",
              "<table border=\"1\" class=\"dataframe\">\n",
              "  <thead>\n",
              "    <tr style=\"text-align: right;\">\n",
              "      <th></th>\n",
              "      <th>id</th>\n",
              "      <th>label</th>\n",
              "    </tr>\n",
              "  </thead>\n",
              "  <tbody>\n",
              "    <tr>\n",
              "      <th>0</th>\n",
              "      <td>71</td>\n",
              "      <td>0</td>\n",
              "    </tr>\n",
              "    <tr>\n",
              "      <th>1</th>\n",
              "      <td>67</td>\n",
              "      <td>1</td>\n",
              "    </tr>\n",
              "    <tr>\n",
              "      <th>2</th>\n",
              "      <td>114</td>\n",
              "      <td>1</td>\n",
              "    </tr>\n",
              "    <tr>\n",
              "      <th>3</th>\n",
              "      <td>80</td>\n",
              "      <td>1</td>\n",
              "    </tr>\n",
              "    <tr>\n",
              "      <th>4</th>\n",
              "      <td>103</td>\n",
              "      <td>1</td>\n",
              "    </tr>\n",
              "    <tr>\n",
              "      <th>5</th>\n",
              "      <td>143</td>\n",
              "      <td>0</td>\n",
              "    </tr>\n",
              "    <tr>\n",
              "      <th>6</th>\n",
              "      <td>101</td>\n",
              "      <td>0</td>\n",
              "    </tr>\n",
              "    <tr>\n",
              "      <th>7</th>\n",
              "      <td>88</td>\n",
              "      <td>1</td>\n",
              "    </tr>\n",
              "    <tr>\n",
              "      <th>8</th>\n",
              "      <td>37</td>\n",
              "      <td>1</td>\n",
              "    </tr>\n",
              "    <tr>\n",
              "      <th>9</th>\n",
              "      <td>77</td>\n",
              "      <td>0</td>\n",
              "    </tr>\n",
              "    <tr>\n",
              "      <th>10</th>\n",
              "      <td>140</td>\n",
              "      <td>0</td>\n",
              "    </tr>\n",
              "    <tr>\n",
              "      <th>11</th>\n",
              "      <td>61</td>\n",
              "      <td>0</td>\n",
              "    </tr>\n",
              "    <tr>\n",
              "      <th>12</th>\n",
              "      <td>87</td>\n",
              "      <td>0</td>\n",
              "    </tr>\n",
              "    <tr>\n",
              "      <th>13</th>\n",
              "      <td>90</td>\n",
              "      <td>1</td>\n",
              "    </tr>\n",
              "    <tr>\n",
              "      <th>14</th>\n",
              "      <td>72</td>\n",
              "      <td>0</td>\n",
              "    </tr>\n",
              "    <tr>\n",
              "      <th>15</th>\n",
              "      <td>94</td>\n",
              "      <td>1</td>\n",
              "    </tr>\n",
              "    <tr>\n",
              "      <th>16</th>\n",
              "      <td>73</td>\n",
              "      <td>1</td>\n",
              "    </tr>\n",
              "  </tbody>\n",
              "</table>\n",
              "</div>\n",
              "    <div class=\"colab-df-buttons\">\n",
              "\n",
              "  <div class=\"colab-df-container\">\n",
              "    <button class=\"colab-df-convert\" onclick=\"convertToInteractive('df-3e105076-7ea7-4138-a972-a633fffc049e')\"\n",
              "            title=\"Convert this dataframe to an interactive table.\"\n",
              "            style=\"display:none;\">\n",
              "\n",
              "  <svg xmlns=\"http://www.w3.org/2000/svg\" height=\"24px\" viewBox=\"0 -960 960 960\">\n",
              "    <path d=\"M120-120v-720h720v720H120Zm60-500h600v-160H180v160Zm220 220h160v-160H400v160Zm0 220h160v-160H400v160ZM180-400h160v-160H180v160Zm440 0h160v-160H620v160ZM180-180h160v-160H180v160Zm440 0h160v-160H620v160Z\"/>\n",
              "  </svg>\n",
              "    </button>\n",
              "\n",
              "  <style>\n",
              "    .colab-df-container {\n",
              "      display:flex;\n",
              "      gap: 12px;\n",
              "    }\n",
              "\n",
              "    .colab-df-convert {\n",
              "      background-color: #E8F0FE;\n",
              "      border: none;\n",
              "      border-radius: 50%;\n",
              "      cursor: pointer;\n",
              "      display: none;\n",
              "      fill: #1967D2;\n",
              "      height: 32px;\n",
              "      padding: 0 0 0 0;\n",
              "      width: 32px;\n",
              "    }\n",
              "\n",
              "    .colab-df-convert:hover {\n",
              "      background-color: #E2EBFA;\n",
              "      box-shadow: 0px 1px 2px rgba(60, 64, 67, 0.3), 0px 1px 3px 1px rgba(60, 64, 67, 0.15);\n",
              "      fill: #174EA6;\n",
              "    }\n",
              "\n",
              "    .colab-df-buttons div {\n",
              "      margin-bottom: 4px;\n",
              "    }\n",
              "\n",
              "    [theme=dark] .colab-df-convert {\n",
              "      background-color: #3B4455;\n",
              "      fill: #D2E3FC;\n",
              "    }\n",
              "\n",
              "    [theme=dark] .colab-df-convert:hover {\n",
              "      background-color: #434B5C;\n",
              "      box-shadow: 0px 1px 3px 1px rgba(0, 0, 0, 0.15);\n",
              "      filter: drop-shadow(0px 1px 2px rgba(0, 0, 0, 0.3));\n",
              "      fill: #FFFFFF;\n",
              "    }\n",
              "  </style>\n",
              "\n",
              "    <script>\n",
              "      const buttonEl =\n",
              "        document.querySelector('#df-3e105076-7ea7-4138-a972-a633fffc049e button.colab-df-convert');\n",
              "      buttonEl.style.display =\n",
              "        google.colab.kernel.accessAllowed ? 'block' : 'none';\n",
              "\n",
              "      async function convertToInteractive(key) {\n",
              "        const element = document.querySelector('#df-3e105076-7ea7-4138-a972-a633fffc049e');\n",
              "        const dataTable =\n",
              "          await google.colab.kernel.invokeFunction('convertToInteractive',\n",
              "                                                    [key], {});\n",
              "        if (!dataTable) return;\n",
              "\n",
              "        const docLinkHtml = 'Like what you see? Visit the ' +\n",
              "          '<a target=\"_blank\" href=https://colab.research.google.com/notebooks/data_table.ipynb>data table notebook</a>'\n",
              "          + ' to learn more about interactive tables.';\n",
              "        element.innerHTML = '';\n",
              "        dataTable['output_type'] = 'display_data';\n",
              "        await google.colab.output.renderOutput(dataTable, element);\n",
              "        const docLink = document.createElement('div');\n",
              "        docLink.innerHTML = docLinkHtml;\n",
              "        element.appendChild(docLink);\n",
              "      }\n",
              "    </script>\n",
              "  </div>\n",
              "\n",
              "\n",
              "<div id=\"df-fe4cc831-d29a-4950-91e6-0078d98df7e8\">\n",
              "  <button class=\"colab-df-quickchart\" onclick=\"quickchart('df-fe4cc831-d29a-4950-91e6-0078d98df7e8')\"\n",
              "            title=\"Suggest charts.\"\n",
              "            style=\"display:none;\">\n",
              "\n",
              "<svg xmlns=\"http://www.w3.org/2000/svg\" height=\"24px\"viewBox=\"0 0 24 24\"\n",
              "     width=\"24px\">\n",
              "    <g>\n",
              "        <path d=\"M19 3H5c-1.1 0-2 .9-2 2v14c0 1.1.9 2 2 2h14c1.1 0 2-.9 2-2V5c0-1.1-.9-2-2-2zM9 17H7v-7h2v7zm4 0h-2V7h2v10zm4 0h-2v-4h2v4z\"/>\n",
              "    </g>\n",
              "</svg>\n",
              "  </button>\n",
              "\n",
              "<style>\n",
              "  .colab-df-quickchart {\n",
              "      --bg-color: #E8F0FE;\n",
              "      --fill-color: #1967D2;\n",
              "      --hover-bg-color: #E2EBFA;\n",
              "      --hover-fill-color: #174EA6;\n",
              "      --disabled-fill-color: #AAA;\n",
              "      --disabled-bg-color: #DDD;\n",
              "  }\n",
              "\n",
              "  [theme=dark] .colab-df-quickchart {\n",
              "      --bg-color: #3B4455;\n",
              "      --fill-color: #D2E3FC;\n",
              "      --hover-bg-color: #434B5C;\n",
              "      --hover-fill-color: #FFFFFF;\n",
              "      --disabled-bg-color: #3B4455;\n",
              "      --disabled-fill-color: #666;\n",
              "  }\n",
              "\n",
              "  .colab-df-quickchart {\n",
              "    background-color: var(--bg-color);\n",
              "    border: none;\n",
              "    border-radius: 50%;\n",
              "    cursor: pointer;\n",
              "    display: none;\n",
              "    fill: var(--fill-color);\n",
              "    height: 32px;\n",
              "    padding: 0;\n",
              "    width: 32px;\n",
              "  }\n",
              "\n",
              "  .colab-df-quickchart:hover {\n",
              "    background-color: var(--hover-bg-color);\n",
              "    box-shadow: 0 1px 2px rgba(60, 64, 67, 0.3), 0 1px 3px 1px rgba(60, 64, 67, 0.15);\n",
              "    fill: var(--button-hover-fill-color);\n",
              "  }\n",
              "\n",
              "  .colab-df-quickchart-complete:disabled,\n",
              "  .colab-df-quickchart-complete:disabled:hover {\n",
              "    background-color: var(--disabled-bg-color);\n",
              "    fill: var(--disabled-fill-color);\n",
              "    box-shadow: none;\n",
              "  }\n",
              "\n",
              "  .colab-df-spinner {\n",
              "    border: 2px solid var(--fill-color);\n",
              "    border-color: transparent;\n",
              "    border-bottom-color: var(--fill-color);\n",
              "    animation:\n",
              "      spin 1s steps(1) infinite;\n",
              "  }\n",
              "\n",
              "  @keyframes spin {\n",
              "    0% {\n",
              "      border-color: transparent;\n",
              "      border-bottom-color: var(--fill-color);\n",
              "      border-left-color: var(--fill-color);\n",
              "    }\n",
              "    20% {\n",
              "      border-color: transparent;\n",
              "      border-left-color: var(--fill-color);\n",
              "      border-top-color: var(--fill-color);\n",
              "    }\n",
              "    30% {\n",
              "      border-color: transparent;\n",
              "      border-left-color: var(--fill-color);\n",
              "      border-top-color: var(--fill-color);\n",
              "      border-right-color: var(--fill-color);\n",
              "    }\n",
              "    40% {\n",
              "      border-color: transparent;\n",
              "      border-right-color: var(--fill-color);\n",
              "      border-top-color: var(--fill-color);\n",
              "    }\n",
              "    60% {\n",
              "      border-color: transparent;\n",
              "      border-right-color: var(--fill-color);\n",
              "    }\n",
              "    80% {\n",
              "      border-color: transparent;\n",
              "      border-right-color: var(--fill-color);\n",
              "      border-bottom-color: var(--fill-color);\n",
              "    }\n",
              "    90% {\n",
              "      border-color: transparent;\n",
              "      border-bottom-color: var(--fill-color);\n",
              "    }\n",
              "  }\n",
              "</style>\n",
              "\n",
              "  <script>\n",
              "    async function quickchart(key) {\n",
              "      const quickchartButtonEl =\n",
              "        document.querySelector('#' + key + ' button');\n",
              "      quickchartButtonEl.disabled = true;  // To prevent multiple clicks.\n",
              "      quickchartButtonEl.classList.add('colab-df-spinner');\n",
              "      try {\n",
              "        const charts = await google.colab.kernel.invokeFunction(\n",
              "            'suggestCharts', [key], {});\n",
              "      } catch (error) {\n",
              "        console.error('Error during call to suggestCharts:', error);\n",
              "      }\n",
              "      quickchartButtonEl.classList.remove('colab-df-spinner');\n",
              "      quickchartButtonEl.classList.add('colab-df-quickchart-complete');\n",
              "    }\n",
              "    (() => {\n",
              "      let quickchartButtonEl =\n",
              "        document.querySelector('#df-fe4cc831-d29a-4950-91e6-0078d98df7e8 button');\n",
              "      quickchartButtonEl.style.display =\n",
              "        google.colab.kernel.accessAllowed ? 'block' : 'none';\n",
              "    })();\n",
              "  </script>\n",
              "</div>\n",
              "    </div>\n",
              "  </div>\n"
            ]
          },
          "metadata": {},
          "execution_count": 141
        }
      ]
    },
    {
      "cell_type": "code",
      "source": [
        "test_labels_prediction.to_csv('./lab_task_submission.csv', index=False)"
      ],
      "metadata": {
        "id": "-VaeBhARmgUp"
      },
      "execution_count": null,
      "outputs": []
    }
  ]
}